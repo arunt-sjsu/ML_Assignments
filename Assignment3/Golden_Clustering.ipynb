{
  "nbformat": 4,
  "nbformat_minor": 0,
  "metadata": {
    "colab": {
      "name": "Golden Clustering.ipynb",
      "provenance": [],
      "collapsed_sections": [],
      "toc_visible": true,
      "authorship_tag": "ABX9TyOMX/xCFjpHL+MSUnHxVNMd",
      "include_colab_link": true
    },
    "kernelspec": {
      "name": "python3",
      "display_name": "Python 3"
    }
  },
  "cells": [
    {
      "cell_type": "markdown",
      "metadata": {
        "id": "view-in-github",
        "colab_type": "text"
      },
      "source": [
        "<a href=\"https://colab.research.google.com/github/arunt-sjsu/ML_Assignments/blob/main/Assignment3/Golden_Clustering.ipynb\" target=\"_parent\"><img src=\"https://colab.research.google.com/assets/colab-badge.svg\" alt=\"Open In Colab\"/></a>"
      ]
    },
    {
      "cell_type": "code",
      "metadata": {
        "colab": {
          "base_uri": "https://localhost:8080/"
        },
        "id": "IwCeHGN9Fy5d",
        "outputId": "bae5e933-af1c-47ad-dd47-968ecf462991"
      },
      "source": [
        "!pip install tslearn"
      ],
      "execution_count": 2,
      "outputs": [
        {
          "output_type": "stream",
          "text": [
            "Requirement already satisfied: tslearn in /usr/local/lib/python3.7/dist-packages (0.5.0.5)\n",
            "Requirement already satisfied: scipy in /usr/local/lib/python3.7/dist-packages (from tslearn) (1.4.1)\n",
            "Requirement already satisfied: numba in /usr/local/lib/python3.7/dist-packages (from tslearn) (0.51.2)\n",
            "Requirement already satisfied: joblib in /usr/local/lib/python3.7/dist-packages (from tslearn) (1.0.1)\n",
            "Requirement already satisfied: numpy in /usr/local/lib/python3.7/dist-packages (from tslearn) (1.19.5)\n",
            "Requirement already satisfied: Cython in /usr/local/lib/python3.7/dist-packages (from tslearn) (0.29.21)\n",
            "Requirement already satisfied: scikit-learn in /usr/local/lib/python3.7/dist-packages (from tslearn) (0.22.2.post1)\n",
            "Requirement already satisfied: setuptools in /usr/local/lib/python3.7/dist-packages (from numba->tslearn) (53.0.0)\n",
            "Requirement already satisfied: llvmlite<0.35,>=0.34.0.dev0 in /usr/local/lib/python3.7/dist-packages (from numba->tslearn) (0.34.0)\n"
          ],
          "name": "stdout"
        }
      ]
    },
    {
      "cell_type": "code",
      "metadata": {
        "id": "bF0QHP8pF4VD"
      },
      "source": [
        "import pandas as pd\r\n",
        "master_dataset = pd.read_csv(\"dataset.csv\")\r\n",
        "master_dataset_group = master_dataset.groupby(\"apt_name\")"
      ],
      "execution_count": 3,
      "outputs": []
    },
    {
      "cell_type": "code",
      "metadata": {
        "colab": {
          "base_uri": "https://localhost:8080/"
        },
        "id": "NeCvpZpQFPwX",
        "outputId": "9152b62b-0c26-435b-e5eb-de1c427553a9"
      },
      "source": [
        "import numpy\r\n",
        "import matplotlib.pyplot as plt\r\n",
        "from sklearn.model_selection import train_test_split\r\n",
        "from tslearn.clustering import TimeSeriesKMeans\r\n",
        "from tslearn.datasets import CachedDatasets\r\n",
        "from tslearn.preprocessing import TimeSeriesScalerMeanVariance, \\\r\n",
        "    TimeSeriesResampler\r\n",
        "seed = 0  \r\n",
        "numpy.random.seed(seed)\r\n",
        "X_train, y_train, X_test, y_test = train_test_split(master_dataset.power_usage, master_dataset.apt_name, random_state=42)\r\n",
        "X_train = X_train.values.reshape(-1, 1)\r\n",
        "# Keep only 50 time series\r\n",
        "#print(X_train[:50])\r\n",
        "#X_train = TimeSeriesScalerMeanVariance().fit_transform(X_train[:50])\r\n",
        "## Make time series shorter\r\n",
        "##X_train = TimeSeriesResampler(sz=40).fit_transform(X_train)\r\n",
        "#sz = X_train.shape[1]\r\n",
        "\r\n",
        "# Euclidean k-means\r\n",
        "print(\"Euclidean k-means\")\r\n",
        "km = TimeSeriesKMeans(n_clusters=3, verbose=True, random_state=seed)\r\n",
        "y_pred = km.fit_predict(X_train)\r\n"
      ],
      "execution_count": 4,
      "outputs": [
        {
          "output_type": "stream",
          "text": [
            "Euclidean k-means\n",
            "1.761 --> 1.233 --> 1.108 --> 1.090 --> 1.083 --> 1.081 --> 1.080 --> 1.080 --> 1.079 --> 1.079 --> 1.079 --> 1.079 --> 1.079 --> 1.079 --> 1.079 --> \n"
          ],
          "name": "stdout"
        }
      ]
    },
    {
      "cell_type": "code",
      "metadata": {
        "id": "p0K20nHXs5M3"
      },
      "source": [
        "plt.figure()\r\n",
        "for yi in range(3):\r\n",
        "    plt.subplot(3, 3, yi + 1)\r\n",
        "    for xx in X_train[y_pred == yi]:\r\n",
        "        plt.plot(xx[0], \"k-\", alpha=.8)\r\n",
        "    print(km.cluster_centers_[yi])\r\n",
        "    plt.plot(km.cluster_centers_[yi], \"r-\")\r\n",
        "   # plt.xlim(0, sz)\r\n",
        "    #plt.ylim(-4, 4)\r\n",
        "    plt.text(0.55, 0.85,'Cluster %d' % (yi + 1),\r\n",
        "             transform=plt.gca().transAxes)\r\n",
        "    if yi == 1:\r\n",
        "        plt.title(\"Euclidean $k$-means\")\r\n",
        "\r\n",
        "\r\n",
        "plt.tight_layout()\r\n",
        "plt.show()\r\n"
      ],
      "execution_count": null,
      "outputs": []
    }
  ]
}